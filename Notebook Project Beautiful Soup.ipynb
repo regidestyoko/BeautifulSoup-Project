{
 "cells": [
  {
   "cell_type": "markdown",
   "metadata": {},
   "source": [
    "# Webscrapping using BeautifulSoup\n",
    "\n",
    "This project is aimed to obtain some specifics information from dataset that was collected by web scrapping method. Those datasets came from mifx.com which is a web that provide some financial information and imdb.com which is a movies web based. From mifx.com, it is scrapped to obtain the currency values within 5 latest days. While from imdb.com, it is scrapped to obtain the top 50 by popularities that was released on 2019. Down below will be explained in detail for the insights of each datasets. those datasets analysis will be run in Flask framework to create a light web application  \n",
    "\n"
   ]
  },
  {
   "cell_type": "code",
   "execution_count": 1,
   "metadata": {
    "ExecuteTime": {
     "end_time": "2020-01-13T05:12:23.275508Z",
     "start_time": "2020-01-13T05:12:20.009898Z"
    }
   },
   "outputs": [],
   "source": [
    "import requests\n",
    "import numpy as np\n",
    "from bs4 import BeautifulSoup \n",
    "import pandas as pd\n",
    "import matplotlib.pyplot as plt\n",
    "plt.style.use('seaborn')\n",
    "import dateparser\n",
    "\n",
    "\n",
    "url_get = requests.get('https://news.mifx.com/kurs-valuta-asing.php?kurs=JPY')"
   ]
  },
  {
   "cell_type": "code",
   "execution_count": 2,
   "metadata": {},
   "outputs": [],
   "source": [
    "imdb_get = requests.get('https://www.imdb.com/search/title/?release_date=2019-01-01,2019-12-31')"
   ]
  },
  {
   "cell_type": "markdown",
   "metadata": {},
   "source": [
    "To visualize what exactly you get from the `request.get`, we can use .content so we can see what we exactly get, in here we slice it so it won't make our screen full of the html we get from the page."
   ]
  },
  {
   "cell_type": "code",
   "execution_count": 3,
   "metadata": {
    "ExecuteTime": {
     "end_time": "2020-01-13T05:12:23.290648Z",
     "start_time": "2020-01-13T05:12:23.277650Z"
    }
   },
   "outputs": [
    {
     "data": {
      "text/plain": [
       "b'!DOCTYPE html PUBLIC \"-//W3C//DTD XHTML 1.0 Transitional//EN\" \"http://www.w3.org/TR/xhtml1/DTD/xhtml1-transitional.dtd\">\\n<html xmlns=\"http://www.w3.org/1999/xhtml\">\\n<head>\\n<meta http-equiv=\"Content-Language\" content=\"en,in\" />\\n<link rel=\"alternate\" href=\"https://news.mifx.com/kurs-valuta-asing.php\" hreflang=\"en-ID\" />\\n<base href=\"https://news.mifx.com/\" target=\"_self\" />\\n<title>Kurs Dollar | USD | Nilai Tukar Dollar Hari Ini</title>\\n<meta property=\"og:title\" content=\"Kurs Dollar | USD | Nilai Tukar Dollar Hari Ini\" />\\n<meta name=\"description\" content=\"Nilai tukar rupiah terhadap dollar hari ini berdasarkan kurs tengah Bank Indonesia. \" />\\n<meta property=\"og:description\" content=\"Nilai tukar rupiah terhadap dollar hari ini berdasarkan kurs tengah Bank Indonesia. \" />'"
      ]
     },
     "execution_count": 3,
     "metadata": {},
     "output_type": "execute_result"
    }
   ],
   "source": [
    "url_get.content[1:777]"
   ]
  },
  {
   "cell_type": "markdown",
   "metadata": {},
   "source": [
    "As we can see we get a very unstructured and complex html, which actually contains the codes needed to show the webpages on your web browser. But we as human still confused what and where we can use that piece of code, so here where we use the beautifulsoup. Beautiful soup class will result a beautifulsoup object. Beautiful Soup transforms a complex HTML document into a complex tree of Python objects. But you’ll only ever have to deal with about four kinds of objects: `Tag`, `NavigableString`, `BeautifulSoup`, and `Comment`. But at this module we will only use `BeautifulSoup`."
   ]
  },
  {
   "cell_type": "code",
   "execution_count": 4,
   "metadata": {
    "ExecuteTime": {
     "end_time": "2020-01-13T05:12:23.808122Z",
     "start_time": "2020-01-13T05:12:23.292610Z"
    }
   },
   "outputs": [
    {
     "name": "stdout",
     "output_type": "stream",
     "text": [
      "<class 'bs4.BeautifulSoup'>\n"
     ]
    }
   ],
   "source": [
    "soup = BeautifulSoup(url_get.content,\"html.parser\")\n",
    "print(type(soup))"
   ]
  },
  {
   "cell_type": "code",
   "execution_count": 5,
   "metadata": {},
   "outputs": [
    {
     "name": "stdout",
     "output_type": "stream",
     "text": [
      "<class 'bs4.BeautifulSoup'>\n"
     ]
    }
   ],
   "source": [
    "imdb = BeautifulSoup(imdb_get.content,\"html.parser\")\n",
    "print(type(soup))"
   ]
  },
  {
   "cell_type": "markdown",
   "metadata": {},
   "source": [
    "Let's see how our beautifulsoup looks like. As we can see, the content is the same with our `get_url` object but it's tidier. Also beautifulsoup give us method to make it even more prettier, for tidyness purpose we slice to only see first 1045 character. "
   ]
  },
  {
   "cell_type": "code",
   "execution_count": 6,
   "metadata": {
    "ExecuteTime": {
     "end_time": "2020-01-13T05:12:23.851033Z",
     "start_time": "2020-01-13T05:12:23.810086Z"
    }
   },
   "outputs": [
    {
     "name": "stdout",
     "output_type": "stream",
     "text": [
      "<!DOCTYPE html PUBLIC \"-//W3C//DTD XHTML 1.0 Transitional//EN\" \"http://www.w3.org/TR/xhtml1/DTD/xhtml1-transitional.dtd\">\n",
      "<html xmlns=\"http://www.w3.org/1999/xhtml\">\n",
      " <head>\n",
      "  <meta content=\"en,in\" http-equiv=\"Content-Language\"/>\n",
      "  <link href=\"https://news.mifx.com/kurs-valuta-asing.php\" hreflang=\"en-ID\" rel=\"alternate\"/>\n",
      "  <base href=\"https://news.mifx.com/\" target=\"_self\"/>\n",
      "  <title>\n",
      "   Kurs Dollar | USD | Nilai Tukar Dollar Hari Ini\n",
      "  </title>\n",
      "  <meta content=\"Kurs Dollar | USD | Nilai Tukar Dollar Hari Ini\" property=\"og:title\"/>\n",
      "  <meta content=\"Nilai tukar rupiah terhadap dollar hari ini berdasarkan kurs tengah Bank Indonesia. \" name=\"description\"/>\n",
      "  <meta content=\"Nilai tukar rupiah terhadap dollar hari ini berdasarkan kurs tengah Bank Indonesia. \" property=\"og:description\"/>\n",
      "  <meta content=\"Broker Terbaik, Trading Forex, Trading Teregulasi, Trading Online, Monex, mifx,\" name=\"keywords\"/>\n",
      "  <meta content=\"favicon.jpg?v=1570462055\" property=\"og:image\"/>\n",
      "  <meta content=\"Ultimaengine.com\" name=\"author\"/>\n",
      "  <meta content=\"fo\n"
     ]
    }
   ],
   "source": [
    "print(soup.prettify()[:1045])"
   ]
  },
  {
   "cell_type": "code",
   "execution_count": 7,
   "metadata": {},
   "outputs": [
    {
     "name": "stdout",
     "output_type": "stream",
     "text": [
      "<!DOCTYPE html>\n",
      "<html xmlns:fb=\"http://www.facebook.com/2008/fbml\" xmlns:og=\"http://ogp.me/ns#\">\n",
      " <head>\n",
      "  <meta charset=\"utf-8\"/>\n",
      "  <meta content=\"IE=edge\" http-equiv=\"X-UA-Compatible\"/>\n",
      "  <meta content=\"app-id=342792525, app-argument=imdb:///?src=mdot\" name=\"apple-itunes-app\"/>\n",
      "  <script type=\"text/javascript\">\n",
      "   var IMDbTimer={starttime: new Date().getTime(),pt:'java'};\n",
      "  </script>\n",
      "  <script>\n",
      "   if (typeof uet == 'function') {\n",
      "      uet(\"bb\", \"LoadTitle\", {wb: 1});\n",
      "    }\n",
      "  </script>\n",
      "  <script>\n",
      "   (function(t){ (t.events = t.events || {})[\"csm_head_pre_title\"] = new Date().getTime(); })(IMDbTimer);\n",
      "  </script>\n",
      "  <title>\n",
      "   Released between 2019-01-01 and 2019-12-31\n",
      "(Sorted by Popularity Ascending) - IMDb\n",
      "  </title>\n",
      "  <script>\n",
      "   (function(t){ (t.events = t.events || {})[\"csm_head_post_title\"] = new Date().getTime(); })(IMDbTimer);\n",
      "  </script>\n",
      "  <script>\n",
      "   if (typeof uet == 'function') {\n",
      "      uet(\"be\", \"LoadTitle\", {wb: 1});\n",
      "    }\n",
      "  </script>\n",
      "  <script>\n",
      "   if (typeof uex == 'function') {\n",
      "      uex(\"ld\", \"LoadTitle\", {wb: 1});\n"
     ]
    }
   ],
   "source": [
    "print(imdb.prettify()[:1045])"
   ]
  },
  {
   "cell_type": "markdown",
   "metadata": {},
   "source": [
    "# MIFX Analysis"
   ]
  },
  {
   "cell_type": "markdown",
   "metadata": {},
   "source": [
    "We would like to find the right key in mifx.com datasets, by choosing the 'table' key in HTML of mifx.com, then putting the class based on the information on it, so we can get the table part in HTML language"
   ]
  },
  {
   "cell_type": "code",
   "execution_count": 8,
   "metadata": {
    "ExecuteTime": {
     "end_time": "2020-01-13T05:12:23.878904Z",
     "start_time": "2020-01-13T05:12:23.854974Z"
    }
   },
   "outputs": [
    {
     "name": "stdout",
     "output_type": "stream",
     "text": [
      "table cellpadding=\"10\" cellspacing=\"0\" class=\"centerText newsTable2\" width=\"100%\">\n",
      " <tr class=\"colorWhite fontsize14 firstRow\">\n",
      "  <td>\n",
      "   TANGGAL\n",
      "  </td>\n",
      "  <td>\n",
      "   ASK\n",
      "  </td>\n",
      "  <td>\n",
      "   BID\n",
      "  </td>\n",
      " </tr>\n",
      " <tr class=\"verySoftGreyBg\">\n",
      "  <td>\n",
      "   07 Agustus 2020\n",
      "  </td>\n",
      "  <td>\n",
      "   139,42\n",
      "  </td>\n",
      "  <td>\n",
      "   138,02\n",
      "  </td>\n",
      " </tr>\n",
      " <tr>\n",
      "  <td>\n",
      "   06 Agustus 2020\n",
      "  </td>\n",
      "  <td>\n",
      "   138,88\n",
      "  </td>\n",
      "  <td>\n",
      "   137,48\n",
      "  </td>\n",
      " </tr>\n",
      " <tr class=\"verySoftGreyBg\">\n",
      "  <td>\n",
      "   05 Agustus 2020\n",
      "  </td>\n",
      "  <td>\n",
      "   139,\n"
     ]
    }
   ],
   "source": [
    "table = soup.find('table', attrs={'class':'centerText newsTable2'})\n",
    "print(table.prettify()[1:500])"
   ]
  },
  {
   "cell_type": "markdown",
   "metadata": {},
   "source": [
    "Next we want to specify each rows from the table, the key that is used is 'tr', so that we obtain 6 rows (include header consider as a row) "
   ]
  },
  {
   "cell_type": "code",
   "execution_count": 9,
   "metadata": {},
   "outputs": [
    {
     "data": {
      "text/plain": [
       "6"
      ]
     },
     "execution_count": 9,
     "metadata": {},
     "output_type": "execute_result"
    }
   ],
   "source": [
    "tr = table.find_all('tr')\n",
    "len(tr)"
   ]
  },
  {
   "cell_type": "markdown",
   "metadata": {},
   "source": [
    "Do the scrapping process here using loop to scrap the column information in each rows. the key for column information was stored in 'tr' key. the result of this loop will be stored in array in order to make a dataframe"
   ]
  },
  {
   "cell_type": "code",
   "execution_count": 10,
   "metadata": {
    "ExecuteTime": {
     "end_time": "2020-01-13T05:12:24.008256Z",
     "start_time": "2020-01-13T05:12:23.980358Z"
    }
   },
   "outputs": [
    {
     "data": {
      "text/plain": [
       "[('07\\xa0Agustus\\xa02020', '139,42', '138,02'),\n",
       " ('06\\xa0Agustus\\xa02020', '138,88', '137,48'),\n",
       " ('05\\xa0Agustus\\xa02020', '139,23', '137,84'),\n",
       " ('04\\xa0Agustus\\xa02020', '139,19', '137,79'),\n",
       " ('03\\xa0Agustus\\xa02020', '139,72', '138,32')]"
      ]
     },
     "execution_count": 10,
     "metadata": {},
     "output_type": "execute_result"
    }
   ],
   "source": [
    "temp = [] #initiating a tuple\n",
    "\n",
    "for i in range(1, len(tr)):\n",
    "    row = table.find_all('tr')[i]\n",
    "    \n",
    "    #get date\n",
    "    tanggal = row.find_all('td')[0].text\n",
    "    tanggal = tanggal.strip() #for removing the excess whitespace\n",
    "    \n",
    "    #get sold price\n",
    "    sold = row.find_all('td')[1].text\n",
    "    sold = sold.strip() #for removing the excess whitespace\n",
    "    \n",
    "    #get buy price\n",
    "    buy = row.find_all('td')[2].text\n",
    "    buy = buy.strip() #for removing the excess whitespace\n",
    "    \n",
    "    temp.append((tanggal,sold,buy)) \n",
    "    \n",
    "temp"
   ]
  },
  {
   "cell_type": "markdown",
   "metadata": {},
   "source": [
    "Put the array into dataframe"
   ]
  },
  {
   "cell_type": "code",
   "execution_count": 11,
   "metadata": {
    "ExecuteTime": {
     "end_time": "2020-01-13T05:12:41.517372Z",
     "start_time": "2020-01-13T05:12:29.130015Z"
    },
    "scrolled": true
   },
   "outputs": [
    {
     "data": {
      "text/html": [
       "<div>\n",
       "<style scoped>\n",
       "    .dataframe tbody tr th:only-of-type {\n",
       "        vertical-align: middle;\n",
       "    }\n",
       "\n",
       "    .dataframe tbody tr th {\n",
       "        vertical-align: top;\n",
       "    }\n",
       "\n",
       "    .dataframe thead th {\n",
       "        text-align: right;\n",
       "    }\n",
       "</style>\n",
       "<table border=\"1\" class=\"dataframe\">\n",
       "  <thead>\n",
       "    <tr style=\"text-align: right;\">\n",
       "      <th></th>\n",
       "      <th>tanggal</th>\n",
       "      <th>sold</th>\n",
       "      <th>buy</th>\n",
       "    </tr>\n",
       "  </thead>\n",
       "  <tbody>\n",
       "    <tr>\n",
       "      <th>0</th>\n",
       "      <td>07 Agustus 2020</td>\n",
       "      <td>139,42</td>\n",
       "      <td>138,02</td>\n",
       "    </tr>\n",
       "    <tr>\n",
       "      <th>1</th>\n",
       "      <td>06 Agustus 2020</td>\n",
       "      <td>138,88</td>\n",
       "      <td>137,48</td>\n",
       "    </tr>\n",
       "    <tr>\n",
       "      <th>2</th>\n",
       "      <td>05 Agustus 2020</td>\n",
       "      <td>139,23</td>\n",
       "      <td>137,84</td>\n",
       "    </tr>\n",
       "    <tr>\n",
       "      <th>3</th>\n",
       "      <td>04 Agustus 2020</td>\n",
       "      <td>139,19</td>\n",
       "      <td>137,79</td>\n",
       "    </tr>\n",
       "    <tr>\n",
       "      <th>4</th>\n",
       "      <td>03 Agustus 2020</td>\n",
       "      <td>139,72</td>\n",
       "      <td>138,32</td>\n",
       "    </tr>\n",
       "  </tbody>\n",
       "</table>\n",
       "</div>"
      ],
      "text/plain": [
       "           tanggal    sold     buy\n",
       "0  07 Agustus 2020  139,42  138,02\n",
       "1  06 Agustus 2020  138,88  137,48\n",
       "2  05 Agustus 2020  139,23  137,84\n",
       "3  04 Agustus 2020  139,19  137,79\n",
       "4  03 Agustus 2020  139,72  138,32"
      ]
     },
     "execution_count": 11,
     "metadata": {},
     "output_type": "execute_result"
    }
   ],
   "source": [
    "df = pd.DataFrame(temp, columns = ('tanggal','sold','buy'))\n",
    "df"
   ]
  },
  {
   "cell_type": "code",
   "execution_count": 12,
   "metadata": {
    "scrolled": true
   },
   "outputs": [],
   "source": [
    "dfcopy = df.copy()\n",
    "dfcopy.tanggal = dfcopy.tanggal.apply(dateparser.parse)\n",
    "dfcopy = dfcopy.rename(columns={'tanggal':'date'})"
   ]
  },
  {
   "cell_type": "code",
   "execution_count": 13,
   "metadata": {},
   "outputs": [],
   "source": [
    "df1 = pd.concat([df,dfcopy.date],axis=1).sort_values('date')"
   ]
  },
  {
   "cell_type": "markdown",
   "metadata": {},
   "source": [
    "Do the data cleaning here, first change the data type of some columns correctly. Down below, change some numeric values in float data type"
   ]
  },
  {
   "cell_type": "code",
   "execution_count": 14,
   "metadata": {},
   "outputs": [],
   "source": [
    "df1.sold = df.sold.apply(lambda x : x.replace(',','.')).astype('float64')\n",
    "df1.buy = df.buy.apply(lambda x : x.replace(',','.')).astype('float64')"
   ]
  },
  {
   "cell_type": "code",
   "execution_count": 15,
   "metadata": {},
   "outputs": [
    {
     "data": {
      "text/plain": [
       "tanggal            object\n",
       "sold              float64\n",
       "buy               float64\n",
       "date       datetime64[ns]\n",
       "dtype: object"
      ]
     },
     "execution_count": 15,
     "metadata": {},
     "output_type": "execute_result"
    }
   ],
   "source": [
    "df1.dtypes"
   ]
  },
  {
   "cell_type": "markdown",
   "metadata": {},
   "source": [
    "This is a simple plot to visualize the trend of the sold price of YEN, means that if we want to buy 1 YEN, has a value in rupiahs that was represented by sold price in Rupiahs versus time in 5 latest weekdays"
   ]
  },
  {
   "cell_type": "code",
   "execution_count": 16,
   "metadata": {},
   "outputs": [
    {
     "data": {
      "text/plain": [
       "[<matplotlib.lines.Line2D at 0x28a635502e0>]"
      ]
     },
     "execution_count": 16,
     "metadata": {},
     "output_type": "execute_result"
    },
    {
     "data": {
      "image/png": "[encoded data removed]",
      "text/plain": [
       "<Figure size 576x396 with 1 Axes>"
      ]
     },
     "metadata": {},
     "output_type": "display_data"
    }
   ],
   "source": [
    "X=df1.tanggal\n",
    "Y=df1.sold\n",
    "plt.xticks(rotation=0)\n",
    "plt.ylabel('Sold Price (Rupiah)')\n",
    "plt.xlabel('Date')\n",
    "plt.plot(X,Y)"
   ]
  },
  {
   "cell_type": "markdown",
   "metadata": {},
   "source": [
    "Quick Analysis and conclusion first week of August 2020:\n",
    "1. We can conclude that there was some declining sold price on YEN in the first week of August, means that rupiah values getting increase relatives to YEN japan. it can be affected by the performance of economic activity in Indonesia domestically usually increase because of the indonesia independence moment. It is recommended to local investors to buy YEN because the value is low in the first week of August and make some transaction in YEN\n",
    "2. In other hand, in the end of the first week there was inclining level of YEN values relatives to rupiah with values of approximately 0.4 points and most likely will increase in the later week. It is recommended for investors to prepare sell their YEN"
   ]
  },
  {
   "cell_type": "markdown",
   "metadata": {},
   "source": [
    "# IMDB ANALYSIS"
   ]
  },
  {
   "cell_type": "markdown",
   "metadata": {},
   "source": [
    "We would like to find the right key in imdb.com datasets, by choosing the 'table' key in HTML of imdb.com, then putting the class based on the information on it, so we can get the table part in HTML language"
   ]
  },
  {
   "cell_type": "code",
   "execution_count": 17,
   "metadata": {
    "scrolled": false
   },
   "outputs": [
    {
     "data": {
      "text/plain": [
       "101"
      ]
     },
     "execution_count": 17,
     "metadata": {},
     "output_type": "execute_result"
    }
   ],
   "source": [
    "imdbtable = imdb.find('div', attrs={'class':'lister-list'})\n",
    "len(imdbtable)"
   ]
  },
  {
   "cell_type": "markdown",
   "metadata": {},
   "source": [
    "Then find the list of the movies in HTML page, the key that we use is 'div' in 'lister-item-content' class, we will get the top 50 movies information"
   ]
  },
  {
   "cell_type": "code",
   "execution_count": 18,
   "metadata": {},
   "outputs": [
    {
     "data": {
      "text/plain": [
       "50"
      ]
     },
     "execution_count": 18,
     "metadata": {},
     "output_type": "execute_result"
    }
   ],
   "source": [
    "spec = imdbtable.find_all('div', attrs={'class':'lister-item-content'})\n",
    "len(spec)"
   ]
  },
  {
   "cell_type": "markdown",
   "metadata": {},
   "source": [
    "Do the scrapping process here using loop to scrap the information in each rows. the key for column information was stored in special key for every piece of information. the result of this loop will be stored in array in order to make a dataframe, we can refer carefully which key that contain particular information down below"
   ]
  },
  {
   "cell_type": "code",
   "execution_count": 19,
   "metadata": {},
   "outputs": [
    {
     "data": {
      "text/plain": [
       "[('The Umbrella Academy',\n",
       "  '8.0',\n",
       "  nan,\n",
       "  '113,509',\n",
       "  '60 min',\n",
       "  nan,\n",
       "  'Action, Adventure, Comedy'),\n",
       " ('The Boys', '8.7', nan, '157,219', '60 min', nan, 'Action, Comedy, Crime'),\n",
       " ('Knives Out',\n",
       "  '7.9',\n",
       "  '82',\n",
       "  '361,331',\n",
       "  '130 min',\n",
       "  '17+',\n",
       "  'Comedy, Crime, Drama'),\n",
       " ('Watchmen', '8.1', nan, '74,687', '60 min', nan, 'Action, Drama, Mystery'),\n",
       " ('Euphoria', '8.3', nan, '44,635', '55 min', nan, 'Drama'),\n",
       " ('In the Dark', '7.4', nan, '4,898', '42 min', nan, 'Comedy, Crime, Drama'),\n",
       " ('Doom Patrol',\n",
       "  '8.0',\n",
       "  nan,\n",
       "  '28,528',\n",
       "  '60 min',\n",
       "  nan,\n",
       "  'Action, Adventure, Comedy'),\n",
       " ('For All Mankind', '7.5', nan, '9,487', '60 min', nan, 'Drama, Sci-Fi'),\n",
       " ('The Mandalorian',\n",
       "  '8.7',\n",
       "  nan,\n",
       "  '182,108',\n",
       "  '40 min',\n",
       "  nan,\n",
       "  'Action, Adventure, Sci-Fi'),\n",
       " ('The Gentlemen',\n",
       "  '7.9',\n",
       "  nan,\n",
       "  '170,599',\n",
       "  '113 min',\n",
       "  '17+',\n",
       "  'Action, Comedy, Crime'),\n",
       " ('Hanna', '7.5', nan, '22,595', '60 min', nan, 'Action, Drama'),\n",
       " ('The Witcher',\n",
       "  '8.2',\n",
       "  nan,\n",
       "  '264,277',\n",
       "  '60 min',\n",
       "  nan,\n",
       "  'Action, Adventure, Fantasy'),\n",
       " ('Once Upon a Time... in Hollywood',\n",
       "  '7.7',\n",
       "  '83',\n",
       "  '498,769',\n",
       "  '161 min',\n",
       "  '17+',\n",
       "  'Comedy, Drama'),\n",
       " ('Yes, God, Yes', '5.9', '71', '2,011', '78 min', 'R', 'Comedy, Drama'),\n",
       " ('His Dark Materials',\n",
       "  '7.9',\n",
       "  nan,\n",
       "  '36,754',\n",
       "  '60 min',\n",
       "  nan,\n",
       "  'Adventure, Drama, Family'),\n",
       " ('Joker', '8.5', nan, '838,405', '122 min', '17+', 'Crime, Drama, Thriller'),\n",
       " ('Gisaengchung',\n",
       "  '8.6',\n",
       "  '96',\n",
       "  '458,241',\n",
       "  '132 min',\n",
       "  '17+',\n",
       "  'Comedy, Drama, Thriller'),\n",
       " ('After', '5.4', nan, '29,738', '105 min', '17+', 'Drama, Romance'),\n",
       " ('Motherless Brooklyn',\n",
       "  '6.8',\n",
       "  nan,\n",
       "  '33,395',\n",
       "  '144 min',\n",
       "  'R',\n",
       "  'Crime, Drama, Mystery'),\n",
       " ('Avengers: Endgame',\n",
       "  '8.4',\n",
       "  '78',\n",
       "  '746,280',\n",
       "  '181 min',\n",
       "  '13+',\n",
       "  'Action, Adventure, Drama'),\n",
       " ('Ford v Ferrari',\n",
       "  '8.1',\n",
       "  '81',\n",
       "  '244,032',\n",
       "  '152 min',\n",
       "  '13+',\n",
       "  'Action, Biography, Drama'),\n",
       " ('What We Do in the Shadows',\n",
       "  '8.5',\n",
       "  nan,\n",
       "  '28,774',\n",
       "  '30 min',\n",
       "  nan,\n",
       "  'Comedy, Fantasy, Horror'),\n",
       " ('How to Sell Drugs Online (Fast)',\n",
       "  '7.9',\n",
       "  nan,\n",
       "  '15,453',\n",
       "  '30 min',\n",
       "  nan,\n",
       "  'Comedy, Crime, Drama'),\n",
       " ('The Morning Show', '8.4', nan, '39,402', '60 min', nan, 'Drama'),\n",
       " ('Doctor Sleep',\n",
       "  '7.4',\n",
       "  nan,\n",
       "  '116,613',\n",
       "  '152 min',\n",
       "  '17+',\n",
       "  'Drama, Fantasy, Horror'),\n",
       " ('Midway',\n",
       "  '6.7',\n",
       "  nan,\n",
       "  '55,095',\n",
       "  '138 min',\n",
       "  'PG-13',\n",
       "  'Action, Adventure, Drama'),\n",
       " ('Midsommar',\n",
       "  '7.1',\n",
       "  '72',\n",
       "  '171,662',\n",
       "  '148 min',\n",
       "  '21+',\n",
       "  'Drama, Horror, Mystery'),\n",
       " (\"Charlie's Angels\",\n",
       "  '4.7',\n",
       "  nan,\n",
       "  '47,323',\n",
       "  '118 min',\n",
       "  '17+',\n",
       "  'Action, Adventure, Comedy'),\n",
       " ('1917', '8.3', '78', '353,009', '119 min', '13+', 'Drama, War'),\n",
       " ('Koma', '6.3', nan, '3,641', '111 min', nan, 'Action, Adventure, Fantasy'),\n",
       " ('Dead to Me', '8.0', nan, '47,917', '30 min', nan, 'Comedy, Drama'),\n",
       " ('Chhichhore', '8.2', nan, '27,453', '143 min', '13+', 'Comedy, Drama'),\n",
       " ('Radioactive',\n",
       "  '6.1',\n",
       "  nan,\n",
       "  '3,390',\n",
       "  '109 min',\n",
       "  'PG-13',\n",
       "  'Biography, Drama, Romance'),\n",
       " ('Little Women', '7.9', '91', '118,590', '135 min', '13+', 'Drama, Romance'),\n",
       " ('Chernobyl',\n",
       "  '9.4',\n",
       "  nan,\n",
       "  '486,152',\n",
       "  '330 min',\n",
       "  nan,\n",
       "  'Drama, History, Thriller'),\n",
       " ('Uncut Gems',\n",
       "  '7.4',\n",
       "  '90',\n",
       "  '194,330',\n",
       "  '135 min',\n",
       "  'R',\n",
       "  'Crime, Drama, Thriller'),\n",
       " ('Sex Education', '8.3', nan, '139,561', '45 min', nan, 'Comedy, Drama'),\n",
       " ('Vivarium', '5.8', '64', '26,240', '97 min', 'R', 'Comedy, Horror, Mystery'),\n",
       " ('Star Wars: Episode IX - The Rise of Skywalker',\n",
       "  '6.6',\n",
       "  nan,\n",
       "  '343,106',\n",
       "  '141 min',\n",
       "  'PG-13',\n",
       "  'Action, Adventure, Fantasy'),\n",
       " ('Prodigal Son', '7.7', nan, '9,459', '44 min', nan, 'Crime, Drama, Mystery'),\n",
       " ('Jumanji: The Next Level',\n",
       "  '6.7',\n",
       "  nan,\n",
       "  '162,647',\n",
       "  '123 min',\n",
       "  'PG-13',\n",
       "  'Action, Adventure, Comedy'),\n",
       " ('The Order', '6.8', nan, '17,468', '60 min', nan, 'Drama, Fantasy, Horror'),\n",
       " ('Terminator: Dark Fate',\n",
       "  '6.2',\n",
       "  nan,\n",
       "  '129,696',\n",
       "  '128 min',\n",
       "  'R',\n",
       "  'Action, Adventure, Sci-Fi'),\n",
       " ('Ad Astra',\n",
       "  '6.6',\n",
       "  '80',\n",
       "  '182,008',\n",
       "  '123 min',\n",
       "  '13+',\n",
       "  'Adventure, Drama, Mystery'),\n",
       " ('Jojo Rabbit',\n",
       "  '7.9',\n",
       "  nan,\n",
       "  '243,702',\n",
       "  '108 min',\n",
       "  'PG-13',\n",
       "  'Comedy, Drama, War'),\n",
       " ('It Chapter Two',\n",
       "  '6.5',\n",
       "  nan,\n",
       "  '189,182',\n",
       "  '169 min',\n",
       "  '17+',\n",
       "  'Drama, Fantasy, Horror'),\n",
       " ('Yip Man 4',\n",
       "  '7.1',\n",
       "  '62',\n",
       "  '19,725',\n",
       "  '107 min',\n",
       "  nan,\n",
       "  'Action, Biography, Drama'),\n",
       " ('The Irishman',\n",
       "  '7.9',\n",
       "  '94',\n",
       "  '301,226',\n",
       "  '209 min',\n",
       "  'R',\n",
       "  'Biography, Crime, Drama'),\n",
       " ('Reckoning', '6.6', nan, '2,209', nan, nan, 'Thriller'),\n",
       " ('Ready or Not',\n",
       "  '6.8',\n",
       "  '64',\n",
       "  '92,550',\n",
       "  '95 min',\n",
       "  '17+',\n",
       "  'Comedy, Horror, Mystery')]"
      ]
     },
     "execution_count": 19,
     "metadata": {},
     "output_type": "execute_result"
    }
   ],
   "source": [
    "predf = [] #initiating a tuple to get title , imdb rating , metascore, votes, duration, certification and genres\n",
    "\n",
    "for i in range(0, len(spec)):\n",
    "        row = imdbtable.find_all('div', attrs={'class':'lister-item-content'})[i]\n",
    "\n",
    "        #get title\n",
    "        title = row.find('h3', attrs={'class':'lister-item-header'}).find('a').text\n",
    "        title = title.strip() #for removing the excess whitespace\n",
    "\n",
    "        #get rating\n",
    "        rating = row.find('div', attrs={'class':'inline-block ratings-imdb-rating'}).text\n",
    "        rating = rating.strip() #for removing the excess whitespace\n",
    "        \n",
    "        #get vote\n",
    "        vote = row.find('span', attrs={'name':'nv'}).text\n",
    "        vote = vote.strip() #for removing the excess whitespace\n",
    "\n",
    "        try :\n",
    "            #get metascore\n",
    "            metascore = row.find('span', attrs={'class':'metascore favorable'}).text\n",
    "            metascore = metascore.strip() #for removing the excess whitespace\n",
    "        except:\n",
    "            metascore = np.nan\n",
    "        \n",
    "        try :\n",
    "            #get duration\n",
    "            dur = row.find('span', attrs={'class':'runtime'}).text\n",
    "            dur = dur.strip() #for removing the excess whitespace\n",
    "        except:\n",
    "            dur = np.nan\n",
    "            \n",
    "        try :\n",
    "            #get certification\n",
    "            certification = row.find('span', attrs={'class':'certificate'}).text\n",
    "            certification = certification.strip() #for removing the excess whitespace\n",
    "        except:\n",
    "            certification = np.nan\n",
    "\n",
    "        try :\n",
    "            #get certification\n",
    "            genre = row.find('span', attrs={'class':'genre'}).text\n",
    "            genre = genre.strip() #for removing the excess whitespace\n",
    "        except:\n",
    "            genre = np.nan\n",
    "    \n",
    "        predf.append((title,rating,metascore,vote,dur,certification,genre))\n",
    "\n",
    "predf"
   ]
  },
  {
   "cell_type": "markdown",
   "metadata": {},
   "source": [
    "Creating the dataframe from the array that already generated, we can use this dataframe for further analysis"
   ]
  },
  {
   "cell_type": "code",
   "execution_count": 20,
   "metadata": {
    "scrolled": false
   },
   "outputs": [
    {
     "data": {
      "text/html": [
       "<div>\n",
       "<style scoped>\n",
       "    .dataframe tbody tr th:only-of-type {\n",
       "        vertical-align: middle;\n",
       "    }\n",
       "\n",
       "    .dataframe tbody tr th {\n",
       "        vertical-align: top;\n",
       "    }\n",
       "\n",
       "    .dataframe thead th {\n",
       "        text-align: right;\n",
       "    }\n",
       "</style>\n",
       "<table border=\"1\" class=\"dataframe\">\n",
       "  <thead>\n",
       "    <tr style=\"text-align: right;\">\n",
       "      <th></th>\n",
       "      <th>title</th>\n",
       "      <th>rating</th>\n",
       "      <th>metascore</th>\n",
       "      <th>vote</th>\n",
       "      <th>duration</th>\n",
       "      <th>certification</th>\n",
       "      <th>genre</th>\n",
       "    </tr>\n",
       "  </thead>\n",
       "  <tbody>\n",
       "    <tr>\n",
       "      <th>0</th>\n",
       "      <td>The Umbrella Academy</td>\n",
       "      <td>8.0</td>\n",
       "      <td>NaN</td>\n",
       "      <td>113,509</td>\n",
       "      <td>60 min</td>\n",
       "      <td>NaN</td>\n",
       "      <td>Action, Adventure, Comedy</td>\n",
       "    </tr>\n",
       "    <tr>\n",
       "      <th>1</th>\n",
       "      <td>The Boys</td>\n",
       "      <td>8.7</td>\n",
       "      <td>NaN</td>\n",
       "      <td>157,219</td>\n",
       "      <td>60 min</td>\n",
       "      <td>NaN</td>\n",
       "      <td>Action, Comedy, Crime</td>\n",
       "    </tr>\n",
       "    <tr>\n",
       "      <th>2</th>\n",
       "      <td>Knives Out</td>\n",
       "      <td>7.9</td>\n",
       "      <td>82</td>\n",
       "      <td>361,331</td>\n",
       "      <td>130 min</td>\n",
       "      <td>17+</td>\n",
       "      <td>Comedy, Crime, Drama</td>\n",
       "    </tr>\n",
       "    <tr>\n",
       "      <th>3</th>\n",
       "      <td>Watchmen</td>\n",
       "      <td>8.1</td>\n",
       "      <td>NaN</td>\n",
       "      <td>74,687</td>\n",
       "      <td>60 min</td>\n",
       "      <td>NaN</td>\n",
       "      <td>Action, Drama, Mystery</td>\n",
       "    </tr>\n",
       "    <tr>\n",
       "      <th>4</th>\n",
       "      <td>Euphoria</td>\n",
       "      <td>8.3</td>\n",
       "      <td>NaN</td>\n",
       "      <td>44,635</td>\n",
       "      <td>55 min</td>\n",
       "      <td>NaN</td>\n",
       "      <td>Drama</td>\n",
       "    </tr>\n",
       "  </tbody>\n",
       "</table>\n",
       "</div>"
      ],
      "text/plain": [
       "                  title rating metascore     vote duration certification  \\\n",
       "0  The Umbrella Academy    8.0       NaN  113,509   60 min           NaN   \n",
       "1              The Boys    8.7       NaN  157,219   60 min           NaN   \n",
       "2            Knives Out    7.9        82  361,331  130 min           17+   \n",
       "3              Watchmen    8.1       NaN   74,687   60 min           NaN   \n",
       "4              Euphoria    8.3       NaN   44,635   55 min           NaN   \n",
       "\n",
       "                       genre  \n",
       "0  Action, Adventure, Comedy  \n",
       "1      Action, Comedy, Crime  \n",
       "2       Comedy, Crime, Drama  \n",
       "3     Action, Drama, Mystery  \n",
       "4                      Drama  "
      ]
     },
     "execution_count": 20,
     "metadata": {},
     "output_type": "execute_result"
    }
   ],
   "source": [
    "movies = pd.DataFrame(predf, columns =('title','rating','metascore','vote','duration','certification','genre'))\n",
    "movies.head()"
   ]
  },
  {
   "cell_type": "markdown",
   "metadata": {},
   "source": [
    "Begin the data wrangling, as a point of interest, we would like to get use aggregate function, to observe the data that was grouped by specific genres, as we know that each movies has a single tags on genres or more. We want to analyze based on single type of genres, so that we can conclude the spesific single tag of genres which is popular in 2019"
   ]
  },
  {
   "cell_type": "code",
   "execution_count": 21,
   "metadata": {},
   "outputs": [],
   "source": [
    "movies.vote = movies.vote.apply(lambda x : x.replace(',','.')).astype('float64') #changing the datatype of vote become float"
   ]
  },
  {
   "cell_type": "markdown",
   "metadata": {},
   "source": [
    "As well as those data below, we have to change the numeric data become float or integer data to ease us for analyzing the data"
   ]
  },
  {
   "cell_type": "code",
   "execution_count": 22,
   "metadata": {},
   "outputs": [],
   "source": [
    "movies.rating = movies.rating.astype('float64')\n",
    "movies.metascore = movies.metascore.astype('float64')"
   ]
  },
  {
   "cell_type": "code",
   "execution_count": 23,
   "metadata": {
    "scrolled": false
   },
   "outputs": [
    {
     "data": {
      "text/plain": [
       "title             object\n",
       "rating           float64\n",
       "metascore        float64\n",
       "vote             float64\n",
       "duration          object\n",
       "certification     object\n",
       "genre             object\n",
       "dtype: object"
      ]
     },
     "execution_count": 23,
     "metadata": {},
     "output_type": "execute_result"
    }
   ],
   "source": [
    "movies.dtypes"
   ]
  },
  {
   "cell_type": "markdown",
   "metadata": {},
   "source": [
    "Those cell below is the syntax for obtaining the single tag of the genres then aggregate based on the single tag on average rating, so we can conclude the most popular tag in 2019"
   ]
  },
  {
   "cell_type": "code",
   "execution_count": 24,
   "metadata": {},
   "outputs": [],
   "source": [
    "drama = pd.concat([movies,movies.genre.str.extract('.*(?P<Genres>Drama).*')],axis=1).groupby('Genres').agg({'rating':'mean','title':'count'}).reset_index()\n",
    "action = pd.concat([movies,movies.genre.str.extract('.*(?P<Genres>Action).*')],axis=1).groupby('Genres').agg({'rating':'mean','title':'count'}).reset_index()\n",
    "adventure = pd.concat([movies,movies.genre.str.extract('.*(?P<Genres>Adventure).*')],axis=1).groupby('Genres').agg({'rating':'mean','title':'count'}).reset_index()\n",
    "comedy = pd.concat([movies,movies.genre.str.extract('.*(?P<Genres>Comedy).*')],axis=1).groupby('Genres').agg({'rating':'mean','title':'count'}).reset_index()\n",
    "crime = pd.concat([movies,movies.genre.str.extract('.*(?P<Genres>Crime).*')],axis=1).groupby('Genres').agg({'rating':'mean','title':'count'}).reset_index()\n",
    "mystery = pd.concat([movies,movies.genre.str.extract('.*(?P<Genres>Mystery).*')],axis=1).groupby('Genres').agg({'rating':'mean','title':'count'}).reset_index()\n",
    "scifi = pd.concat([movies,movies.genre.str.extract('.*(?P<Genres>Sci-Fi).*')],axis=1).groupby('Genres').agg({'rating':'mean','title':'count'}).reset_index()\n",
    "family = pd.concat([movies,movies.genre.str.extract('.*(?P<Genres>Family).*')],axis=1).groupby('Genres').agg({'rating':'mean','title':'count'}).reset_index()\n",
    "thriller = pd.concat([movies,movies.genre.str.extract('.*(?P<Genres>Thriller).*')],axis=1).groupby('Genres').agg({'rating':'mean','title':'count'}).reset_index()\n",
    "romance = pd.concat([movies,movies.genre.str.extract('.*(?P<Genres>Romance).*')],axis=1).groupby('Genres').agg({'rating':'mean','title':'count'}).reset_index()\n",
    "biography = pd.concat([movies,movies.genre.str.extract('.*(?P<Genres>Biography).*')],axis=1).groupby('Genres').agg({'rating':'mean','title':'count'}).reset_index()\n",
    "horror = pd.concat([movies,movies.genre.str.extract('.*(?P<Genres>Horror).*')],axis=1).groupby('Genres').agg({'rating':'mean','title':'count'}).reset_index()\n",
    "war = pd.concat([movies,movies.genre.str.extract('.*(?P<Genres>War).*')],axis=1).groupby('Genres').agg({'rating':'mean','title':'count'}).reset_index()\n",
    "\n",
    "su = pd.concat([drama,action,adventure,comedy,crime,mystery,scifi,family,thriller,romance,biography,horror,war]).reset_index().drop(columns='index')\n"
   ]
  },
  {
   "cell_type": "code",
   "execution_count": 25,
   "metadata": {},
   "outputs": [],
   "source": [
    "summary = su.rename(columns={'title':'Count of Title','rating':'Average Rating'})"
   ]
  },
  {
   "cell_type": "code",
   "execution_count": 26,
   "metadata": {},
   "outputs": [],
   "source": [
    "summary['Count of Title'] = summary['Count of Title'].astype('int64')"
   ]
  },
  {
   "cell_type": "markdown",
   "metadata": {},
   "source": [
    "Those data are the top 5 genre tags that was popular with highest rating"
   ]
  },
  {
   "cell_type": "code",
   "execution_count": 27,
   "metadata": {},
   "outputs": [
    {
     "data": {
      "text/html": [
       "<div>\n",
       "<style scoped>\n",
       "    .dataframe tbody tr th:only-of-type {\n",
       "        vertical-align: middle;\n",
       "    }\n",
       "\n",
       "    .dataframe tbody tr th {\n",
       "        vertical-align: top;\n",
       "    }\n",
       "\n",
       "    .dataframe thead th {\n",
       "        text-align: right;\n",
       "    }\n",
       "</style>\n",
       "<table border=\"1\" class=\"dataframe\">\n",
       "  <thead>\n",
       "    <tr style=\"text-align: right;\">\n",
       "      <th></th>\n",
       "      <th>Genres</th>\n",
       "      <th>Average Rating</th>\n",
       "      <th>Count of Title</th>\n",
       "    </tr>\n",
       "  </thead>\n",
       "  <tbody>\n",
       "    <tr>\n",
       "      <th>12</th>\n",
       "      <td>War</td>\n",
       "      <td>8.100000</td>\n",
       "      <td>2</td>\n",
       "    </tr>\n",
       "    <tr>\n",
       "      <th>8</th>\n",
       "      <td>Thriller</td>\n",
       "      <td>8.100000</td>\n",
       "      <td>5</td>\n",
       "    </tr>\n",
       "    <tr>\n",
       "      <th>7</th>\n",
       "      <td>Family</td>\n",
       "      <td>7.900000</td>\n",
       "      <td>1</td>\n",
       "    </tr>\n",
       "    <tr>\n",
       "      <th>4</th>\n",
       "      <td>Crime</td>\n",
       "      <td>7.810000</td>\n",
       "      <td>10</td>\n",
       "    </tr>\n",
       "    <tr>\n",
       "      <th>0</th>\n",
       "      <td>Drama</td>\n",
       "      <td>7.588571</td>\n",
       "      <td>35</td>\n",
       "    </tr>\n",
       "  </tbody>\n",
       "</table>\n",
       "</div>"
      ],
      "text/plain": [
       "      Genres  Average Rating  Count of Title\n",
       "12       War        8.100000               2\n",
       "8   Thriller        8.100000               5\n",
       "7     Family        7.900000               1\n",
       "4      Crime        7.810000              10\n",
       "0      Drama        7.588571              35"
      ]
     },
     "execution_count": 27,
     "metadata": {},
     "output_type": "execute_result"
    }
   ],
   "source": [
    "sumsortrat = summary.sort_values('Average Rating',ascending=False)\n",
    "sumsortrat.head()"
   ]
  },
  {
   "cell_type": "code",
   "execution_count": 28,
   "metadata": {},
   "outputs": [
    {
     "data": {
      "text/plain": [
       "<BarContainer object of 13 artists>"
      ]
     },
     "execution_count": 28,
     "metadata": {},
     "output_type": "execute_result"
    },
    {
     "data": {
      "image/png": "[encoded data removed]",
      "text/plain": [
       "<Figure size 576x396 with 1 Axes>"
      ]
     },
     "metadata": {},
     "output_type": "display_data"
    }
   ],
   "source": [
    "plt.xticks(rotation=30)\n",
    "plt.ylabel('Average Rating')\n",
    "plt.xlabel('Genres')\n",
    "plt.bar(sumsortrat.Genres,sumsortrat['Average Rating'])"
   ]
  },
  {
   "cell_type": "code",
   "execution_count": 29,
   "metadata": {},
   "outputs": [
    {
     "data": {
      "text/plain": [
       "<BarContainer object of 13 artists>"
      ]
     },
     "execution_count": 29,
     "metadata": {},
     "output_type": "execute_result"
    },
    {
     "data": {
      "image/png": "[encoded data removed]",
      "text/plain": [
       "<Figure size 576x396 with 1 Axes>"
      ]
     },
     "metadata": {},
     "output_type": "display_data"
    }
   ],
   "source": [
    "plt.xticks(rotation=30)\n",
    "plt.ylabel('Count Of Title')\n",
    "plt.xlabel('Genres')\n",
    "plt.bar(sumsortrat.Genres,sumsortrat['Count of Title'])"
   ]
  },
  {
   "cell_type": "markdown",
   "metadata": {},
   "source": [
    "Quick Analysis and Conclusion :\n",
    "1. From the datasets we can conclude that the 50 most popular movies in 2019 has a average rating of 7, so if the movie is popular almost obvius that the viewer gives a good votes and response, thats a linear correlation between the popularity and rating\n",
    "2. In point of view from Genres, from top 50 most popular movies, we have 13 single tags genres that represent the viewers preference.\n",
    "3. Another point of interest is the top 3 genres by rating has a small number in quantities compare to the total drama movies in a year.\n",
    "4. Drama movies seems to be popular with a chances to get a good rating as we can see from the top 5 genres. It is indicated that movie producers in the beginning year of 2019 were optimism to get high rating by putting some drama genre in their movie line, and most likely will be continue this trend in 2020\n",
    "5. It is recommended for the movie producers to start innovate, create a movies with interesting plot and including War,Thriller,Family,Crime and Drama genres in their movies. By mix them in one movies will be interesting in 2020\n",
    "6. One intermezzo points, romeo-jullete-ish love story isn't always popular with a good rating, they were beaten by some electrifying plot which is offered by war genres"
   ]
  }
 ],
 "metadata": {
  "kernelspec": {
   "display_name": "scrapping",
   "language": "python",
   "name": "scrapping"
  },
  "language_info": {
   "codemirror_mode": {
    "name": "ipython",
    "version": 3
   },
   "file_extension": ".py",
   "mimetype": "text/x-python",
   "name": "python",
   "nbconvert_exporter": "python",
   "pygments_lexer": "ipython3",
   "version": "3.8.3"
  },
  "toc": {
   "base_numbering": 1,
   "nav_menu": {},
   "number_sections": true,
   "sideBar": true,
   "skip_h1_title": false,
   "title_cell": "Table of Contents",
   "title_sidebar": "Contents",
   "toc_cell": false,
   "toc_position": {},
   "toc_section_display": true,
   "toc_window_display": false
  }
 },
 "nbformat": 4,
 "nbformat_minor": 2
}
